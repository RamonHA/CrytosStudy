{
 "cells": [
  {
   "attachments": {},
   "cell_type": "markdown",
   "metadata": {},
   "source": [
    "# TA Discovery\n",
    "\n",
    "El objetivo de este notebook es hacer discovery de diferentes manalisis tecnicos\n",
    "}"
   ]
  },
  {
   "cell_type": "code",
   "execution_count": 1,
   "metadata": {},
   "outputs": [],
   "source": [
    "from trading.testers.rules_testing import RulesGenerator\n",
    "from trading import Asset\n",
    "from datetime import date\n",
    "import time\n",
    "from functions import *"
   ]
  },
  {
   "cell_type": "code",
   "execution_count": 2,
   "metadata": {},
   "outputs": [],
   "source": [
    "asset = Asset(\n",
    "    \"LTC\",\n",
    "    start = date(2022,1,1),\n",
    "    end = date(2022,10,1),\n",
    "    frequency=\"1d\",\n",
    "    fiat = \"usdt\",\n",
    "    broker = \"binance\",\n",
    "    from_ = \"db\"\n",
    ")"
   ]
  },
  {
   "cell_type": "code",
   "execution_count": 3,
   "metadata": {},
   "outputs": [],
   "source": [
    "rules = [ \n",
    "    \"ema < close\",\n",
    "    # \"ema_slope > 0\",\n",
    "    # \"rsi_smoth < {}\",\n",
    "    # \"rsi_smoth_slope > 0\",\n",
    "    # \"william_fractals == True\",\n",
    "    # \"oneside_gaussian_filter_slope > 0\",\n",
    "    # \"supertrend > 0\"\n",
    "    # \"engulfing == 1\"\n",
    "]"
   ]
  },
  {
   "cell_type": "code",
   "execution_count": 4,
   "metadata": {},
   "outputs": [],
   "source": [
    "universe = [ \n",
    "    # ( 50, 101, 20 ) # 20, 30, 40, 50\n",
    "]"
   ]
  },
  {
   "cell_type": "code",
   "execution_count": 5,
   "metadata": {},
   "outputs": [],
   "source": [
    "columns = { \n",
    "    \"ema\":(10, 61, 10), # 30, 60, 90, 120\n",
    "    # \"ema_slope\":[ (10, 61, 10), (2, 5) ],\n",
    "    # \"rsi_smoth\":[ [ 7, 9, 11, 14], [ 7, 9, 11, 14] ], # 7, 14, 21   \n",
    "    # \"rsi_smoth_slope\":[  [7, 9, 11, 14], [ 7, 9, 11, 14], (2, 5)  ], # 7-2, 7-3, 7-4, 14-2, 14-3, 14-4\n",
    "    # \"william_fractals\":[ [2, 3], [True] ],\n",
    "    # \"oneside_gaussian_filter_slope\":[(2, 5), (2,6)],\n",
    "    # \"supertrend\":[ [5, 7,10,15, 20], [2,3,4] ]\n",
    "}"
   ]
  },
  {
   "cell_type": "code",
   "execution_count": 6,
   "metadata": {},
   "outputs": [
    {
     "name": "stdout",
     "output_type": "stream",
     "text": [
      "Rules to test:  6\n"
     ]
    }
   ],
   "source": [
    "rg = RulesGenerator( asset=asset, rules=rules, universe=universe , target = [0.002], and_or = \"and\", columns=columns)\n",
    "\n",
    "rg.run()"
   ]
  },
  {
   "cell_type": "code",
   "execution_count": 7,
   "metadata": {},
   "outputs": [],
   "source": [
    "results = rg.results.sort_values(by = \"acc\", ascending = False)\n"
   ]
  },
  {
   "cell_type": "code",
   "execution_count": 8,
   "metadata": {},
   "outputs": [
    {
     "data": {
      "text/html": [
       "<div>\n",
       "<style scoped>\n",
       "    .dataframe tbody tr th:only-of-type {\n",
       "        vertical-align: middle;\n",
       "    }\n",
       "\n",
       "    .dataframe tbody tr th {\n",
       "        vertical-align: top;\n",
       "    }\n",
       "\n",
       "    .dataframe thead th {\n",
       "        text-align: right;\n",
       "    }\n",
       "</style>\n",
       "<table border=\"1\" class=\"dataframe\">\n",
       "  <thead>\n",
       "    <tr style=\"text-align: right;\">\n",
       "      <th></th>\n",
       "      <th>params</th>\n",
       "      <th>rules</th>\n",
       "      <th>target</th>\n",
       "      <th>qty_trans</th>\n",
       "      <th>acc</th>\n",
       "      <th>mean</th>\n",
       "      <th>max_drawdown</th>\n",
       "      <th>std</th>\n",
       "      <th>sharpe</th>\n",
       "      <th>sortino</th>\n",
       "      <th>positive</th>\n",
       "      <th>negative</th>\n",
       "    </tr>\n",
       "  </thead>\n",
       "  <tbody>\n",
       "    <tr>\n",
       "      <th>0</th>\n",
       "      <td>{'ema': 10}</td>\n",
       "      <td>{'buy': 'ema &lt; close'}</td>\n",
       "      <td>0.002</td>\n",
       "      <td>2</td>\n",
       "      <td>1.053</td>\n",
       "      <td>0.0265</td>\n",
       "      <td>0.02</td>\n",
       "      <td>0.009192</td>\n",
       "      <td>2.88282</td>\n",
       "      <td>NaN</td>\n",
       "      <td>2</td>\n",
       "      <td>0</td>\n",
       "    </tr>\n",
       "    <tr>\n",
       "      <th>1</th>\n",
       "      <td>{'ema': 20}</td>\n",
       "      <td>{'buy': 'ema &lt; close'}</td>\n",
       "      <td>0.002</td>\n",
       "      <td>2</td>\n",
       "      <td>1.053</td>\n",
       "      <td>0.0265</td>\n",
       "      <td>0.02</td>\n",
       "      <td>0.009192</td>\n",
       "      <td>2.88282</td>\n",
       "      <td>NaN</td>\n",
       "      <td>2</td>\n",
       "      <td>0</td>\n",
       "    </tr>\n",
       "    <tr>\n",
       "      <th>2</th>\n",
       "      <td>{'ema': 30}</td>\n",
       "      <td>{'buy': 'ema &lt; close'}</td>\n",
       "      <td>0.002</td>\n",
       "      <td>2</td>\n",
       "      <td>1.053</td>\n",
       "      <td>0.0265</td>\n",
       "      <td>0.02</td>\n",
       "      <td>0.009192</td>\n",
       "      <td>2.88282</td>\n",
       "      <td>NaN</td>\n",
       "      <td>2</td>\n",
       "      <td>0</td>\n",
       "    </tr>\n",
       "    <tr>\n",
       "      <th>3</th>\n",
       "      <td>{'ema': 40}</td>\n",
       "      <td>{'buy': 'ema &lt; close'}</td>\n",
       "      <td>0.002</td>\n",
       "      <td>2</td>\n",
       "      <td>1.053</td>\n",
       "      <td>0.0265</td>\n",
       "      <td>0.02</td>\n",
       "      <td>0.009192</td>\n",
       "      <td>2.88282</td>\n",
       "      <td>NaN</td>\n",
       "      <td>2</td>\n",
       "      <td>0</td>\n",
       "    </tr>\n",
       "    <tr>\n",
       "      <th>4</th>\n",
       "      <td>{'ema': 50}</td>\n",
       "      <td>{'buy': 'ema &lt; close'}</td>\n",
       "      <td>0.002</td>\n",
       "      <td>2</td>\n",
       "      <td>1.053</td>\n",
       "      <td>0.0265</td>\n",
       "      <td>0.02</td>\n",
       "      <td>0.009192</td>\n",
       "      <td>2.88282</td>\n",
       "      <td>NaN</td>\n",
       "      <td>2</td>\n",
       "      <td>0</td>\n",
       "    </tr>\n",
       "    <tr>\n",
       "      <th>5</th>\n",
       "      <td>{'ema': 60}</td>\n",
       "      <td>{'buy': 'ema &lt; close'}</td>\n",
       "      <td>0.002</td>\n",
       "      <td>2</td>\n",
       "      <td>1.053</td>\n",
       "      <td>0.0265</td>\n",
       "      <td>0.02</td>\n",
       "      <td>0.009192</td>\n",
       "      <td>2.88282</td>\n",
       "      <td>NaN</td>\n",
       "      <td>2</td>\n",
       "      <td>0</td>\n",
       "    </tr>\n",
       "  </tbody>\n",
       "</table>\n",
       "</div>"
      ],
      "text/plain": [
       "        params                   rules  target  qty_trans    acc    mean  \\\n",
       "0  {'ema': 10}  {'buy': 'ema < close'}   0.002          2  1.053  0.0265   \n",
       "1  {'ema': 20}  {'buy': 'ema < close'}   0.002          2  1.053  0.0265   \n",
       "2  {'ema': 30}  {'buy': 'ema < close'}   0.002          2  1.053  0.0265   \n",
       "3  {'ema': 40}  {'buy': 'ema < close'}   0.002          2  1.053  0.0265   \n",
       "4  {'ema': 50}  {'buy': 'ema < close'}   0.002          2  1.053  0.0265   \n",
       "5  {'ema': 60}  {'buy': 'ema < close'}   0.002          2  1.053  0.0265   \n",
       "\n",
       "   max_drawdown       std   sharpe  sortino  positive  negative  \n",
       "0          0.02  0.009192  2.88282      NaN         2         0  \n",
       "1          0.02  0.009192  2.88282      NaN         2         0  \n",
       "2          0.02  0.009192  2.88282      NaN         2         0  \n",
       "3          0.02  0.009192  2.88282      NaN         2         0  \n",
       "4          0.02  0.009192  2.88282      NaN         2         0  \n",
       "5          0.02  0.009192  2.88282      NaN         2         0  "
      ]
     },
     "execution_count": 8,
     "metadata": {},
     "output_type": "execute_result"
    }
   ],
   "source": [
    "results"
   ]
  },
  {
   "cell_type": "code",
   "execution_count": null,
   "metadata": {},
   "outputs": [],
   "source": [
    "\n",
    "\n",
    "\n",
    "\n",
    "\n",
    "\n",
    "print(results.head())\n",
    "\n",
    "for i in results.iloc[:10].index:\n",
    "    print( rg.rules_obj[i].asset.params, results.loc[i][\"rules\"] )\n",
    "\n",
    "# results.iloc[:10].to_csv( \"results.csv\" )\n",
    "\n",
    "print(\"\\n\\n\")\n",
    "print( time.time() - st )"
   ]
  }
 ],
 "metadata": {
  "kernelspec": {
   "display_name": "VirtualEnv",
   "language": "python",
   "name": "python3"
  },
  "language_info": {
   "codemirror_mode": {
    "name": "ipython",
    "version": 3
   },
   "file_extension": ".py",
   "mimetype": "text/x-python",
   "name": "python",
   "nbconvert_exporter": "python",
   "pygments_lexer": "ipython3",
   "version": "3.10.9"
  },
  "orig_nbformat": 4,
  "vscode": {
   "interpreter": {
    "hash": "05c6edd2ad8f54df3cbfb14affd67243a65bc545ac74faad249fc11b86d2bf4c"
   }
  }
 },
 "nbformat": 4,
 "nbformat_minor": 2
}
