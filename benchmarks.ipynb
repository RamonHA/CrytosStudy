{
 "cells": [
  {
   "cell_type": "code",
   "execution_count": 1,
   "metadata": {},
   "outputs": [],
   "source": [
    "import pandas as pd\n",
    "from datetime import datetime\n",
    "\n",
    "from trading import Asset"
   ]
  },
  {
   "attachments": {},
   "cell_type": "markdown",
   "metadata": {},
   "source": [
    "# Global Variables\n",
    "\n",
    "To download data"
   ]
  },
  {
   "cell_type": "code",
   "execution_count": 2,
   "metadata": {},
   "outputs": [],
   "source": [
    "START = datetime(2023,6,15)\n",
    "END = datetime(2023, 6, 19)\n",
    "FREQ = \"5min\""
   ]
  },
  {
   "cell_type": "code",
   "execution_count": null,
   "metadata": {},
   "outputs": [],
   "source": [
    "df = pd.DataFrame()"
   ]
  },
  {
   "attachments": {},
   "cell_type": "markdown",
   "metadata": {},
   "source": [
    "# Single most important assets\n",
    "\n",
    "At June 2023, top three cryptocurrencies are: BTC, ETH and BNB."
   ]
  },
  {
   "cell_type": "code",
   "execution_count": 3,
   "metadata": {},
   "outputs": [],
   "source": [
    "cryptos = [\"BTC\", \"ETH\", \"BNB\"]"
   ]
  },
  {
   "cell_type": "code",
   "execution_count": 5,
   "metadata": {},
   "outputs": [],
   "source": [
    "dff = []\n",
    "for crypto in cryptos :\n",
    "    asset = Asset(\n",
    "        symbol = crypto,\n",
    "        broker = \"binance\",\n",
    "        fiat = \"USDT\",\n",
    "        start = START,\n",
    "        end = END,\n",
    "        frequency=FREQ,\n",
    "        source = \"ext_api\"\n",
    "    )\n",
    "\n",
    "    if asset is None or asset.df is None or len(asset.df) == 0:\n",
    "        continue\n",
    "\n",
    "    dff.append( asset.df[[\"close\"]] )\n",
    "\n",
    "df = pd.concat(dff, axis = 1)\n",
    "df.columns = cryptos"
   ]
  },
  {
   "cell_type": "code",
   "execution_count": 12,
   "metadata": {},
   "outputs": [],
   "source": [
    "(df / df.iloc[0]).to_csv(\"dummy/single_asset_bench.csv\", index = True)"
   ]
  },
  {
   "cell_type": "code",
   "execution_count": null,
   "metadata": {},
   "outputs": [],
   "source": []
  }
 ],
 "metadata": {
  "kernelspec": {
   "display_name": "VirtualEnv",
   "language": "python",
   "name": "python3"
  },
  "language_info": {
   "codemirror_mode": {
    "name": "ipython",
    "version": 3
   },
   "file_extension": ".py",
   "mimetype": "text/x-python",
   "name": "python",
   "nbconvert_exporter": "python",
   "pygments_lexer": "ipython3",
   "version": "3.10.11"
  },
  "orig_nbformat": 4
 },
 "nbformat": 4,
 "nbformat_minor": 2
}
